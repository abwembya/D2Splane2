{
 "cells": [
  {
   "cell_type": "code",
   "execution_count": 1,
   "id": "94ec7932-0b1e-4ef1-8d0d-ab2e91a244cb",
   "metadata": {},
   "outputs": [],
   "source": [
    "import math as m\n",
    "import h5py \n",
    "import numpy as np\n",
    "import matplotlib.pyplot as plt"
   ]
  },
  {
   "cell_type": "code",
   "execution_count": null,
   "id": "4fa16383",
   "metadata": {},
   "outputs": [],
   "source": []
  },
  {
   "cell_type": "code",
   "execution_count": 106,
   "id": "a08c12ee-a539-4a2d-9f84-8818d4a2c740",
   "metadata": {},
   "outputs": [],
   "source": [
    "import numpy as np\n",
    "import h5py\n",
    "class Antenna:\n",
    "    \"\"\" antenna with location and timeseries of Efield\"\"\"\n",
    "    def __init__(self,x,y,z,name=\"\"):\n",
    "        self.x = x\n",
    "        self.y = y\n",
    "        self.z = z\n",
    "        self.name = name\n",
    "\n",
    "class REvent:\n",
    "    \"\"\" An interface class for reading simulations \"\"\"\n",
    "    def __init__(self,filename):\n",
    "        self.reasfile = filename\n",
    "        if '.reas' in filename:\n",
    "            self.reasfile = filename\n",
    "            self.parse_reas()\n",
    "        elif '.hdf5' in filename:\n",
    "            self.hdf5file = filename\n",
    "            self.parse_hdf5()\n",
    "\n",
    "    def parse_reas(self):\n",
    "        \"\"\" parse *reas file \"\"\"\n",
    "        f = open(self.reasfile)\n",
    "        lines = f.readlines()\n",
    "        for l in lines:\n",
    "            if 'ShowerZenithAngle' in l:\n",
    "                self.zenith = float(l.split()[2])\n",
    "            if 'ShowerAzimuthAngle' in l:\n",
    "                self.azimuth = float(l.split()[2]) + 180\n",
    "                if self.azimuth > 360:\n",
    "                    self.azimuth = self.azimuth - 360\n",
    "            if 'DepthOfShowerMaximum' in l:\n",
    "                self.xmax = float(l.split()[2])\n",
    "            if 'PrimaryParticleEnergy' in l:\n",
    "                self.energy = float(l.split()[2])/1e18\n",
    "            if 'PrimaryParticleType' in l:\n",
    "                self.part_id = int(l.split()[2])\n",
    "            if 'MagneticFieldInclinationAngle' in l:\n",
    "                self.Binc = float(l.split()[2])\n",
    "            if 'MagneticFieldStrength' in l:\n",
    "                self.Bmag = float(l.split()[2])\n",
    "        self.parse_reas_antenas()\n",
    "        self.set_unit_vectors()\n",
    "\n",
    "    def parse_reas_antenas(self):\n",
    "        \"\"\"Parse the antennas by reas \"\"\"\n",
    "        self.listfile = self.reasfile.replace('.reas','.list')\n",
    "        f = open(self.listfile)\n",
    "        lines = f.readlines()\n",
    "        self.antennas = []\n",
    "        print('reading ' +  str(len(lines)) + ' antennas')\n",
    "        for l in lines:\n",
    "            a = Antenna(float(l.split()[2])/100,float(l.split()[3])/100,float(l.split()[4])/100,l.split()[5])\n",
    "            efile = self.listfile.replace('.list','_coreas/raw_'+ a.name + '.dat')\n",
    "            a.t, a.Ex, a.Ey, a.Ez = np.loadtxt(efile,unpack=True)\n",
    "            a.t = np.asarray(a.t)*1e9 #use nanoseconds\n",
    "            a.Ex = np.asarray(a.Ex) * 2.99792458e10 #cgs statvolt/cm volt -> mu V/m (SI)\n",
    "            a.Ey = np.asarray(a.Ey) * 2.99792458e10 #cgs statvolt/cm volt-> mu V/m (SI)\n",
    "            a.Ez = np.asarray(a.Ez) * 2.99792458e10 #cgs statvolt/cm volt-> mu V/m (SI)\n",
    "            self.antennas.append(a)\n",
    "\n",
    "    def parse_hdf5(self):\n",
    "        f = h5py.File(self.hdf5file, \"r\")\n",
    "        self.antennas = []\n",
    "        ai = f[list(f.keys())[-1] + '/AntennaInfo']\n",
    "        for ai_ in ai:\n",
    "            a = Antenna(ai_[1],ai_[2],ai_[3],ai_[0].decode('UTF-8'))\n",
    "            self.antennas.append(a)\n",
    "        print('reading ' +  str(len(self.antennas)) + ' antennas')\n",
    "\n",
    "        traces = f[list(f.keys())[-1] + '/AntennaTraces']\n",
    "        for tr in traces:\n",
    "            for a in self.antennas:\n",
    "                if a.name == tr:\n",
    "                    break\n",
    "            a.t = []\n",
    "            a.Ex = []\n",
    "            a.Ey = []\n",
    "            a.Ez =[]\n",
    "            for tup in traces[tr + '/efield']:\n",
    "                a.t.append(tup[0])\n",
    "                a.Ex.append(tup[1])\n",
    "                a.Ey.append(tup[2])\n",
    "                a.Ez.append(tup[3])\n",
    "            a.t = np.asarray(a.t)\n",
    "            a.Ex = np.asarray(a.Ex)\n",
    "            a.Ey = np.asarray(a.Ey)\n",
    "            a.Ez = np.asarray(a.Ez)\n",
    "\n",
    "        ei = f[list(f.keys())[-1] + '/EventInfo']\n",
    "        ei=ei[0]\n",
    "        self.zenith = 180.-ei[4]\n",
    "        self.azimuth = ei[5]+180\n",
    "        if self.azimuth >= 360:\n",
    "            self.azimuth -= 360\n",
    "        self.xmax = ei[9]\n",
    "        self.energy = ei[3]\n",
    "        self.part_id = ei[2].decode('UTF-8')\n",
    "        self.Bmag = ei[16]\n",
    "        self.Binc = ei[17]\n",
    "        self.Bdec = ei[18]\n",
    "        self.ground=ei[11]\n",
    "        self.dist_xmax=ei[6]\n",
    "        self.set_unit_vectors()"
   ]
  },
  {
   "cell_type": "code",
   "execution_count": 5,
   "id": "59a1d700",
   "metadata": {},
   "outputs": [],
   "source": []
  },
  {
   "cell_type": "code",
   "execution_count": null,
   "id": "8b189db0",
   "metadata": {},
   "outputs": [],
   "source": []
  },
  {
   "cell_type": "code",
   "execution_count": 6,
   "id": "9a63a709-f4ad-4d86-b974-5167459ace63",
   "metadata": {
    "scrolled": true
   },
   "outputs": [
    {
     "name": "stdout",
     "output_type": "stream",
     "text": [
      "read 176antennas\n"
     ]
    }
   ],
   "source": [
    "f = h5py.File('Stshp_Proton_3.98_38.2_90.0_22.hdf5', \"r\")\n",
    "antennas = []\n",
    "ai = f[list(f.keys())[-1] + '/AntennaInfo']\n",
    "for ai_ in ai:\n",
    "    a = Antenna(ai_[1],ai_[2],ai_[3],ai_[0].decode('UTF-8'))\n",
    "    antennas.append(a)\n",
    "print('read ' +  str(len(antennas)) + 'antennas')\n",
    "traces = f[list(f.keys())[-1] + '/AntennaTraces']\n",
    "for tr in traces:\n",
    "    for a in antennas:\n",
    "        if a.name == tr:\n",
    "            break\n",
    "    a.t = []\n",
    "    a.Ex = []\n",
    "    a.Ey = []\n",
    "    a.Ez =[]\n",
    "    for tup in traces[tr + '/efield']:\n",
    "        a.t.append(tup[0])\n",
    "        a.Ex.append(tup[1])\n",
    "        a.Ey.append(tup[2])\n",
    "        a.Ez.append(tup[3])\n",
    "\n",
    "ei = f[list(f.keys())[-1] + '/EventInfo']\n",
    "ei=ei[0]\n",
    "zenith = 180.-ei[4]\n",
    "azimuth = ei[5]\n",
    "xmax = ei[9]\n",
    "energy = ei[3]\n",
    "part_id = ei[2].decode('UTF-8')\n",
    "Bmag = ei[16]\n",
    "Binc = ei[17]\n",
    "Bdec = ei[18]\n",
    "ground=ei[11]\n",
    "dist_xmax=ei[6]"
   ]
  },
  {
   "cell_type": "code",
   "execution_count": 107,
   "id": "a0dbefad",
   "metadata": {},
   "outputs": [
    {
     "data": {
      "text/plain": [
       "60.79"
      ]
     },
     "execution_count": 107,
     "metadata": {},
     "output_type": "execute_result"
    }
   ],
   "source": [
    "Binc"
   ]
  },
  {
   "cell_type": "code",
   "execution_count": 116,
   "id": "828783d6",
   "metadata": {},
   "outputs": [
    {
     "name": "stdout",
     "output_type": "stream",
     "text": [
      "[-0.4983920399869236, 0.08913196583586219, -0.8623577373363721]\n",
      "[0.4880120053510488, 0.0, -0.8728369164014821]\n",
      "[-0.07779767 -0.8558559  -0.04349747]\n",
      "[-0.36902633  0.06599632 -0.63851884]\n",
      "0.0\n",
      "0.0\n"
     ]
    }
   ],
   "source": [
    "def vxvxb(zenith,azimuth,Binc):\n",
    "    zen = np.deg2rad(zenith)\n",
    "    azi = np.deg2rad(azimuth)\n",
    "    Binc= np.deg2rad(Binc)\n",
    "    v = [-np.sin(zenith)*np.cos(azimuth),-np.sin(zenith)*np.sin(azimuth),-np.cos(zenith)]\n",
    "    # in the direction opp to the shower axis\n",
    "    B = [np.cos(Binc), 0.0 ,-np.sin(Binc)]\n",
    "    vxB=np.cross(v,B)\n",
    "    vxvxB=np.cross(v,vxB)\n",
    "    print(v)\n",
    "    print(B)\n",
    "    print(vxB)\n",
    "    print(np.cross(vxB,vxvxB))\n",
    "    print(np.dot(vxvxB,vxB))\n",
    "    print(np.dot(v,vxB))\n",
    "    \n",
    "       \n",
    "vxvxb(zenith,azimuth,Binc)"
   ]
  },
  {
   "cell_type": "code",
   "execution_count": null,
   "id": "7e8be2a6",
   "metadata": {},
   "outputs": [],
   "source": []
  },
  {
   "cell_type": "code",
   "execution_count": null,
   "id": "bc56a21c",
   "metadata": {},
   "outputs": [],
   "source": []
  },
  {
   "cell_type": "code",
   "execution_count": null,
   "id": "09ea2a23",
   "metadata": {},
   "outputs": [],
   "source": []
  },
  {
   "cell_type": "code",
   "execution_count": null,
   "id": "1d69e5b9",
   "metadata": {},
   "outputs": [],
   "source": []
  },
  {
   "cell_type": "code",
   "execution_count": null,
   "id": "79cee906",
   "metadata": {},
   "outputs": [],
   "source": []
  },
  {
   "cell_type": "code",
   "execution_count": null,
   "id": "cb5133c5",
   "metadata": {},
   "outputs": [],
   "source": []
  },
  {
   "cell_type": "code",
   "execution_count": null,
   "id": "8a19c80a",
   "metadata": {},
   "outputs": [],
   "source": []
  }
 ],
 "metadata": {
  "kernelspec": {
   "display_name": "Python 3 (ipykernel)",
   "language": "python",
   "name": "python3"
  },
  "language_info": {
   "codemirror_mode": {
    "name": "ipython",
    "version": 3
   },
   "file_extension": ".py",
   "mimetype": "text/x-python",
   "name": "python",
   "nbconvert_exporter": "python",
   "pygments_lexer": "ipython3",
   "version": "3.8.10"
  }
 },
 "nbformat": 4,
 "nbformat_minor": 5
}
